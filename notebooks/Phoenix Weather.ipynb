{
 "cells": [
  {
   "cell_type": "code",
   "execution_count": 1,
   "metadata": {
    "collapsed": true
   },
   "outputs": [],
   "source": [
    "import numpy as np\n",
    "import pandas as pd\n",
    "import matplotlib.pyplot as plt\n",
    "%matplotlib inline"
   ]
  },
  {
   "cell_type": "code",
   "execution_count": 2,
   "metadata": {
    "collapsed": false
   },
   "outputs": [],
   "source": [
    "dat = pd.read_csv('../data/weather data/phoenix_scotts_weather_data.txt')"
   ]
  },
  {
   "cell_type": "code",
   "execution_count": 3,
   "metadata": {
    "collapsed": false
   },
   "outputs": [
    {
     "data": {
      "text/html": [
       "<div>\n",
       "<table border=\"1\" class=\"dataframe\">\n",
       "  <thead>\n",
       "    <tr style=\"text-align: right;\">\n",
       "      <th></th>\n",
       "      <th>STN---</th>\n",
       "      <th>WBAN</th>\n",
       "      <th>YEARMODA</th>\n",
       "      <th>TEMP</th>\n",
       "      <th></th>\n",
       "      <th>DEWP</th>\n",
       "      <th>.1</th>\n",
       "      <th>SLP</th>\n",
       "      <th>.2</th>\n",
       "      <th>STP</th>\n",
       "      <th>...</th>\n",
       "      <th>WDSP</th>\n",
       "      <th>.5</th>\n",
       "      <th>MXSPD</th>\n",
       "      <th>GUST</th>\n",
       "      <th>MAX</th>\n",
       "      <th>MIN</th>\n",
       "      <th>PRCP</th>\n",
       "      <th>SNDP</th>\n",
       "      <th>FRSHTT</th>\n",
       "      <th>Unnamed: 22</th>\n",
       "    </tr>\n",
       "  </thead>\n",
       "  <tbody>\n",
       "    <tr>\n",
       "      <th>0</th>\n",
       "      <td>722780</td>\n",
       "      <td>23183</td>\n",
       "      <td>19730101</td>\n",
       "      <td>44.9</td>\n",
       "      <td>24</td>\n",
       "      <td>30.9</td>\n",
       "      <td>24</td>\n",
       "      <td>1011.7</td>\n",
       "      <td>23</td>\n",
       "      <td>972.1</td>\n",
       "      <td>...</td>\n",
       "      <td>7.2</td>\n",
       "      <td>24</td>\n",
       "      <td>17.1</td>\n",
       "      <td>27.0</td>\n",
       "      <td>53.1*</td>\n",
       "      <td>37.9*</td>\n",
       "      <td>0.00H</td>\n",
       "      <td>999.9</td>\n",
       "      <td>10000</td>\n",
       "      <td>NaN</td>\n",
       "    </tr>\n",
       "    <tr>\n",
       "      <th>1</th>\n",
       "      <td>722780</td>\n",
       "      <td>23183</td>\n",
       "      <td>19730102</td>\n",
       "      <td>44.9</td>\n",
       "      <td>24</td>\n",
       "      <td>34.0</td>\n",
       "      <td>24</td>\n",
       "      <td>1014.9</td>\n",
       "      <td>24</td>\n",
       "      <td>975.2</td>\n",
       "      <td>...</td>\n",
       "      <td>4.9</td>\n",
       "      <td>24</td>\n",
       "      <td>15.0</td>\n",
       "      <td>999.9</td>\n",
       "      <td>57.9*</td>\n",
       "      <td>37.0*</td>\n",
       "      <td>0.00G</td>\n",
       "      <td>999.9</td>\n",
       "      <td>10000</td>\n",
       "      <td>NaN</td>\n",
       "    </tr>\n",
       "  </tbody>\n",
       "</table>\n",
       "<p>2 rows × 23 columns</p>\n",
       "</div>"
      ],
      "text/plain": [
       "   STN---  WBAN    YEARMODA     TEMP         DEWP    .1    SLP      .2  \\\n",
       "0  722780  23183   19730101     44.9  24     30.9    24   1011.7    23   \n",
       "1  722780  23183   19730102     44.9  24     34.0    24   1014.9    24   \n",
       "\n",
       "     STP       ...        WDSP    .5   MXSPD    GUST     MAX      MIN    \\\n",
       "0    972.1     ...         7.2    24    17.1    27.0     53.1*    37.9*   \n",
       "1    975.2     ...         4.9    24    15.0   999.9     57.9*    37.0*   \n",
       "\n",
       "   PRCP    SNDP   FRSHTT Unnamed: 22  \n",
       "0   0.00H  999.9   10000         NaN  \n",
       "1   0.00G  999.9   10000         NaN  \n",
       "\n",
       "[2 rows x 23 columns]"
      ]
     },
     "execution_count": 3,
     "metadata": {},
     "output_type": "execute_result"
    }
   ],
   "source": [
    "dat.head(2)"
   ]
  },
  {
   "cell_type": "code",
   "execution_count": 4,
   "metadata": {
    "collapsed": false
   },
   "outputs": [
    {
     "data": {
      "text/html": [
       "<div>\n",
       "<table border=\"1\" class=\"dataframe\">\n",
       "  <thead>\n",
       "    <tr style=\"text-align: right;\">\n",
       "      <th></th>\n",
       "      <th>STN---</th>\n",
       "      <th>WBAN</th>\n",
       "      <th>YEARMODA</th>\n",
       "      <th>TEMP</th>\n",
       "      <th></th>\n",
       "      <th>DEWP</th>\n",
       "      <th>.1</th>\n",
       "      <th>SLP</th>\n",
       "      <th>.2</th>\n",
       "      <th>STP</th>\n",
       "      <th>...</th>\n",
       "      <th>WDSP</th>\n",
       "      <th>.5</th>\n",
       "      <th>MXSPD</th>\n",
       "      <th>GUST</th>\n",
       "      <th>MAX</th>\n",
       "      <th>MIN</th>\n",
       "      <th>PRCP</th>\n",
       "      <th>SNDP</th>\n",
       "      <th>FRSHTT</th>\n",
       "      <th>Unnamed: 22</th>\n",
       "    </tr>\n",
       "  </thead>\n",
       "  <tbody>\n",
       "    <tr>\n",
       "      <th>0</th>\n",
       "      <td>722780</td>\n",
       "      <td>23183</td>\n",
       "      <td>19730101</td>\n",
       "      <td>44.9</td>\n",
       "      <td>24</td>\n",
       "      <td>30.9</td>\n",
       "      <td>24</td>\n",
       "      <td>1011.7</td>\n",
       "      <td>23</td>\n",
       "      <td>972.1</td>\n",
       "      <td>...</td>\n",
       "      <td>7.2</td>\n",
       "      <td>24</td>\n",
       "      <td>17.1</td>\n",
       "      <td>27.0</td>\n",
       "      <td>53.1*</td>\n",
       "      <td>37.9*</td>\n",
       "      <td>0.00H</td>\n",
       "      <td>999.9</td>\n",
       "      <td>10000</td>\n",
       "      <td>NaN</td>\n",
       "    </tr>\n",
       "  </tbody>\n",
       "</table>\n",
       "<p>1 rows × 23 columns</p>\n",
       "</div>"
      ],
      "text/plain": [
       "   STN---   WBAN  YEARMODA  TEMP      DEWP  .1     SLP  .2    STP     ...      \\\n",
       "0  722780  23183  19730101  44.9  24  30.9  24  1011.7  23  972.1     ...       \n",
       "\n",
       "   WDSP  .5  MXSPD  GUST       MAX      MIN    PRCP   SNDP FRSHTT Unnamed: 22  \n",
       "0   7.2  24   17.1  27.0     53.1*    37.9*   0.00H  999.9  10000         NaN  \n",
       "\n",
       "[1 rows x 23 columns]"
      ]
     },
     "execution_count": 4,
     "metadata": {},
     "output_type": "execute_result"
    }
   ],
   "source": [
    "## cleaning\n",
    "dat.columns = [i.strip() for i in dat.columns]\n",
    "dat.head(1)"
   ]
  },
  {
   "cell_type": "code",
   "execution_count": 5,
   "metadata": {
    "collapsed": false
   },
   "outputs": [],
   "source": [
    "dat = dat.drop(['','.1','.2','.3','.4','.5'], axis=1)"
   ]
  },
  {
   "cell_type": "code",
   "execution_count": 6,
   "metadata": {
    "collapsed": false
   },
   "outputs": [
    {
     "data": {
      "text/plain": [
       "722780    15933\n",
       "722789    10582\n",
       "999999     8919\n",
       "Name: STN---, dtype: int64"
      ]
     },
     "execution_count": 6,
     "metadata": {},
     "output_type": "execute_result"
    }
   ],
   "source": [
    "dat.columns\n",
    "dat['STN---'].value_counts()"
   ]
  },
  {
   "cell_type": "code",
   "execution_count": 7,
   "metadata": {
    "collapsed": false
   },
   "outputs": [
    {
     "data": {
      "text/html": [
       "<div>\n",
       "<table border=\"1\" class=\"dataframe\">\n",
       "  <thead>\n",
       "    <tr style=\"text-align: right;\">\n",
       "      <th></th>\n",
       "      <th>WBAN</th>\n",
       "      <th>YEARMODA</th>\n",
       "      <th>TEMP</th>\n",
       "      <th>DEWP</th>\n",
       "      <th>SLP</th>\n",
       "      <th>STP</th>\n",
       "      <th>VISIB</th>\n",
       "      <th>WDSP</th>\n",
       "      <th>MXSPD</th>\n",
       "      <th>GUST</th>\n",
       "      <th>MAX</th>\n",
       "      <th>MIN</th>\n",
       "      <th>PRCP</th>\n",
       "      <th>SNDP</th>\n",
       "      <th>FRSHTT</th>\n",
       "      <th>Unnamed: 22</th>\n",
       "      <th>Station</th>\n",
       "    </tr>\n",
       "  </thead>\n",
       "  <tbody>\n",
       "    <tr>\n",
       "      <th>0</th>\n",
       "      <td>23183</td>\n",
       "      <td>19730101</td>\n",
       "      <td>44.9</td>\n",
       "      <td>30.9</td>\n",
       "      <td>1011.7</td>\n",
       "      <td>972.1</td>\n",
       "      <td>23.7</td>\n",
       "      <td>7.2</td>\n",
       "      <td>17.1</td>\n",
       "      <td>27.0</td>\n",
       "      <td>53.1*</td>\n",
       "      <td>37.9*</td>\n",
       "      <td>0.00H</td>\n",
       "      <td>999.9</td>\n",
       "      <td>10000</td>\n",
       "      <td>NaN</td>\n",
       "      <td>Phoenix Sky Harbor</td>\n",
       "    </tr>\n",
       "  </tbody>\n",
       "</table>\n",
       "</div>"
      ],
      "text/plain": [
       "    WBAN  YEARMODA  TEMP  DEWP     SLP    STP  VISIB  WDSP  MXSPD  GUST  \\\n",
       "0  23183  19730101  44.9  30.9  1011.7  972.1   23.7   7.2   17.1  27.0   \n",
       "\n",
       "        MAX      MIN    PRCP   SNDP  FRSHTT  Unnamed: 22             Station  \n",
       "0     53.1*    37.9*   0.00H  999.9   10000          NaN  Phoenix Sky Harbor  "
      ]
     },
     "execution_count": 7,
     "metadata": {},
     "output_type": "execute_result"
    }
   ],
   "source": [
    "dat['Station'] = dat.loc[:,'STN---']\\\n",
    "                    .map({722780:'Phoenix Sky Harbor', \n",
    "                          999999:'Phoenix Sky Harbor',\n",
    "                          722789:'Scottsdale'})\n",
    "del dat['STN---']\n",
    "dat.head(1)"
   ]
  },
  {
   "cell_type": "code",
   "execution_count": 8,
   "metadata": {
    "collapsed": false
   },
   "outputs": [
    {
     "data": {
      "text/plain": [
       "Phoenix Sky Harbor    24852\n",
       "Scottsdale            10582\n",
       "Name: Station, dtype: int64"
      ]
     },
     "execution_count": 8,
     "metadata": {},
     "output_type": "execute_result"
    }
   ],
   "source": [
    "dat.Station.value_counts()"
   ]
  },
  {
   "cell_type": "code",
   "execution_count": 9,
   "metadata": {
    "collapsed": true
   },
   "outputs": [],
   "source": [
    "# year_month_day = dat.loc[:, 'YEARMODA']"
   ]
  },
  {
   "cell_type": "code",
   "execution_count": 10,
   "metadata": {
    "collapsed": false
   },
   "outputs": [],
   "source": [
    "# import datetime\n",
    "# a = year_month_day.map(lambda x: date(int(str(x)[:4]),\n",
    "#                                       int(str(x)[4:6]), \n",
    "#                                       int(str(x)[6:])))"
   ]
  },
  {
   "cell_type": "code",
   "execution_count": 13,
   "metadata": {
    "collapsed": false
   },
   "outputs": [
    {
     "name": "stdout",
     "output_type": "stream",
     "text": [
      "1\n"
     ]
    }
   ],
   "source": [
    "from datetime import date\n",
    "dat['Date'] = dat.loc[:,'YEARMODA'].map(lambda x:\\\n",
    "                                        date(int(str(x)[:4]),\n",
    "                                             int(str(x)[4:6]),\n",
    "                                             int(str(x)[6:])))\n",
    "if 'YEARMODA' in dat.columns: \n",
    "    del dat['YEARMODA'] \n",
    "    print(1)"
   ]
  },
  {
   "cell_type": "code",
   "execution_count": 14,
   "metadata": {
    "collapsed": false
   },
   "outputs": [
    {
     "data": {
      "text/html": [
       "<div>\n",
       "<table border=\"1\" class=\"dataframe\">\n",
       "  <thead>\n",
       "    <tr style=\"text-align: right;\">\n",
       "      <th></th>\n",
       "      <th>WBAN</th>\n",
       "      <th>TEMP</th>\n",
       "      <th>DEWP</th>\n",
       "      <th>SLP</th>\n",
       "      <th>STP</th>\n",
       "      <th>VISIB</th>\n",
       "      <th>WDSP</th>\n",
       "      <th>MXSPD</th>\n",
       "      <th>GUST</th>\n",
       "      <th>MAX</th>\n",
       "      <th>MIN</th>\n",
       "      <th>PRCP</th>\n",
       "      <th>SNDP</th>\n",
       "      <th>FRSHTT</th>\n",
       "      <th>Unnamed: 22</th>\n",
       "      <th>Station</th>\n",
       "      <th>Date</th>\n",
       "    </tr>\n",
       "  </thead>\n",
       "  <tbody>\n",
       "    <tr>\n",
       "      <th>0</th>\n",
       "      <td>23183</td>\n",
       "      <td>44.9</td>\n",
       "      <td>30.9</td>\n",
       "      <td>1011.7</td>\n",
       "      <td>972.1</td>\n",
       "      <td>23.7</td>\n",
       "      <td>7.2</td>\n",
       "      <td>17.1</td>\n",
       "      <td>27.0</td>\n",
       "      <td>53.1*</td>\n",
       "      <td>37.9*</td>\n",
       "      <td>0.00H</td>\n",
       "      <td>999.9</td>\n",
       "      <td>10000</td>\n",
       "      <td>NaN</td>\n",
       "      <td>Phoenix Sky Harbor</td>\n",
       "      <td>1973-01-01</td>\n",
       "    </tr>\n",
       "  </tbody>\n",
       "</table>\n",
       "</div>"
      ],
      "text/plain": [
       "    WBAN  TEMP  DEWP     SLP    STP  VISIB  WDSP  MXSPD  GUST       MAX  \\\n",
       "0  23183  44.9  30.9  1011.7  972.1   23.7   7.2   17.1  27.0     53.1*   \n",
       "\n",
       "       MIN    PRCP   SNDP  FRSHTT  Unnamed: 22             Station        Date  \n",
       "0    37.9*   0.00H  999.9   10000          NaN  Phoenix Sky Harbor  1973-01-01  "
      ]
     },
     "execution_count": 14,
     "metadata": {},
     "output_type": "execute_result"
    }
   ],
   "source": [
    "dat.head(1)"
   ]
  },
  {
   "cell_type": "markdown",
   "metadata": {},
   "source": [
    "- DEWP ==> Dewpoint\n",
    "- SLP ==> Sea Level Pressure\n",
    "- STP ==> ?\n",
    "- VISIB ==> Visibility\n",
    "- WDSP ==> Windspeed\n",
    "- MXSPD ==> Max Windspeed\n",
    "- GUST ==> Gust - A rapid fluctuation of wind speed with variations of 10 knots or more between peaks and lulls.\n",
    "- SNDP ==> Snow Depth\n",
    "- FRSHTT ==> ?\n",
    "- "
   ]
  },
  {
   "cell_type": "code",
   "execution_count": 15,
   "metadata": {
    "collapsed": true
   },
   "outputs": [],
   "source": [
    "del dat['Unnamed: 22']"
   ]
  },
  {
   "cell_type": "code",
   "execution_count": 16,
   "metadata": {
    "collapsed": false
   },
   "outputs": [],
   "source": [
    "phoenix = dat[dat['Station']=='Phoenix Sky Harbor']\n",
    "scottsdale = dat[dat['Station']=='Scottsdale']"
   ]
  },
  {
   "cell_type": "code",
   "execution_count": 17,
   "metadata": {
    "collapsed": false
   },
   "outputs": [],
   "source": [
    "# phoenix.isnull().sum()"
   ]
  },
  {
   "cell_type": "code",
   "execution_count": 18,
   "metadata": {
    "collapsed": false
   },
   "outputs": [],
   "source": [
    "# scottsdale.isnull().sum()"
   ]
  },
  {
   "cell_type": "code",
   "execution_count": 19,
   "metadata": {
    "collapsed": false
   },
   "outputs": [
    {
     "data": {
      "text/html": [
       "<div>\n",
       "<table border=\"1\" class=\"dataframe\">\n",
       "  <thead>\n",
       "    <tr style=\"text-align: right;\">\n",
       "      <th></th>\n",
       "      <th>WBAN</th>\n",
       "      <th>TEMP</th>\n",
       "      <th>DEWP</th>\n",
       "      <th>SLP</th>\n",
       "      <th>STP</th>\n",
       "      <th>VISIB</th>\n",
       "      <th>WDSP</th>\n",
       "      <th>MXSPD</th>\n",
       "      <th>GUST</th>\n",
       "      <th>MAX</th>\n",
       "      <th>MIN</th>\n",
       "      <th>PRCP</th>\n",
       "      <th>SNDP</th>\n",
       "      <th>FRSHTT</th>\n",
       "      <th>Station</th>\n",
       "      <th>Date</th>\n",
       "    </tr>\n",
       "  </thead>\n",
       "  <tbody>\n",
       "    <tr>\n",
       "      <th>15933</th>\n",
       "      <td>3192</td>\n",
       "      <td>57.2</td>\n",
       "      <td>34.0</td>\n",
       "      <td>1013.2</td>\n",
       "      <td>960.3</td>\n",
       "      <td>10.0</td>\n",
       "      <td>1.7</td>\n",
       "      <td>5.1</td>\n",
       "      <td>999.9</td>\n",
       "      <td>66.9</td>\n",
       "      <td>46.9</td>\n",
       "      <td>0.00G</td>\n",
       "      <td>999.9</td>\n",
       "      <td>0</td>\n",
       "      <td>Scottsdale</td>\n",
       "      <td>2006-01-01</td>\n",
       "    </tr>\n",
       "    <tr>\n",
       "      <th>15934</th>\n",
       "      <td>3192</td>\n",
       "      <td>60.4</td>\n",
       "      <td>34.1</td>\n",
       "      <td>1014.4</td>\n",
       "      <td>961.4</td>\n",
       "      <td>10.0</td>\n",
       "      <td>1.8</td>\n",
       "      <td>8.0</td>\n",
       "      <td>999.9</td>\n",
       "      <td>75.9</td>\n",
       "      <td>46.9</td>\n",
       "      <td>0.00G</td>\n",
       "      <td>999.9</td>\n",
       "      <td>0</td>\n",
       "      <td>Scottsdale</td>\n",
       "      <td>2006-01-02</td>\n",
       "    </tr>\n",
       "  </tbody>\n",
       "</table>\n",
       "</div>"
      ],
      "text/plain": [
       "       WBAN  TEMP  DEWP     SLP    STP  VISIB  WDSP  MXSPD   GUST       MAX  \\\n",
       "15933  3192  57.2  34.0  1013.2  960.3   10.0   1.7    5.1  999.9     66.9    \n",
       "15934  3192  60.4  34.1  1014.4  961.4   10.0   1.8    8.0  999.9     75.9    \n",
       "\n",
       "           MIN    PRCP   SNDP  FRSHTT     Station        Date  \n",
       "15933    46.9    0.00G  999.9       0  Scottsdale  2006-01-01  \n",
       "15934    46.9    0.00G  999.9       0  Scottsdale  2006-01-02  "
      ]
     },
     "execution_count": 19,
     "metadata": {},
     "output_type": "execute_result"
    }
   ],
   "source": [
    "scottsdale.head(2)"
   ]
  },
  {
   "cell_type": "code",
   "execution_count": 20,
   "metadata": {
    "collapsed": false
   },
   "outputs": [],
   "source": [
    "scottsdale = scottsdale.reset_index(drop=True)"
   ]
  },
  {
   "cell_type": "code",
   "execution_count": 21,
   "metadata": {
    "collapsed": false
   },
   "outputs": [
    {
     "data": {
      "text/plain": [
       "WBAN         int64\n",
       "TEMP       float64\n",
       "DEWP       float64\n",
       "SLP        float64\n",
       "STP        float64\n",
       "VISIB      float64\n",
       "WDSP       float64\n",
       "MXSPD      float64\n",
       "GUST       float64\n",
       "MAX         object\n",
       "MIN         object\n",
       "PRCP        object\n",
       "SNDP       float64\n",
       "FRSHTT       int64\n",
       "Station     object\n",
       "Date        object\n",
       "dtype: object"
      ]
     },
     "execution_count": 21,
     "metadata": {},
     "output_type": "execute_result"
    }
   ],
   "source": [
    "scottsdale.dtypes"
   ]
  },
  {
   "cell_type": "code",
   "execution_count": 22,
   "metadata": {
    "collapsed": false
   },
   "outputs": [],
   "source": [
    "scottsdale.MAX = scottsdale.MAX.map(lambda x: x.replace('*','')).astype(float)\n",
    "scottsdale.MIN = scottsdale.MIN.map(lambda x: x.replace('*', '')).astype(float)"
   ]
  },
  {
   "cell_type": "code",
   "execution_count": 23,
   "metadata": {
    "collapsed": false
   },
   "outputs": [
    {
     "data": {
      "image/png": "[encoded data removed]",
      "text/plain": [
       "<matplotlib.figure.Figure at 0x1efe43c9780>"
      ]
     },
     "metadata": {},
     "output_type": "display_data"
    }
   ],
   "source": [
    "import calendar\n",
    "scottsdale['Month'] = scottsdale.Date.map(lambda x: x.month)\n",
    "months = [calendar.month_abbr[i] for i in range(0,13)]\n",
    "x = scottsdale.Month\n",
    "y = scottsdale.TEMP\n",
    "by_month = scottsdale.groupby('Month')\n",
    "\n",
    "z = np.polyfit(x, y, 3)\n",
    "p = np.poly1d(z)\n",
    "xp = np.linspace(1, 12)\n",
    "\n",
    "plt.plot(x, y, '*', xp, p(xp), '-')\n",
    "plt.plot(by_month.TEMP.mean(), 'ro')\n",
    "plt.title('Temperature over the Year Scottsdale, AZ')\n",
    "plt.xlabel('Month')\n",
    "plt.ylabel('Temperature')\n",
    "plt.legend(['Obs.', 'Fit', 'Mean'], loc='best')\n",
    "\n",
    "plt.xticks(range(13), months)\n",
    "# lin = \n",
    "plt.show()"
   ]
  },
  {
   "cell_type": "code",
   "execution_count": 24,
   "metadata": {
    "collapsed": false
   },
   "outputs": [],
   "source": [
    "scottsdale.PRCP = scottsdale.PRCP.map(lambda x: None if x=='99.99' else x[:-1]).astype(float)"
   ]
  },
  {
   "cell_type": "code",
   "execution_count": 25,
   "metadata": {
    "collapsed": false
   },
   "outputs": [
    {
     "data": {
      "image/png": "[encoded data removed]",
      "text/plain": [
       "<matplotlib.figure.Figure at 0x1efe43c9828>"
      ]
     },
     "metadata": {},
     "output_type": "display_data"
    }
   ],
   "source": [
    "x = scottsdale.Month[scottsdale['PRCP']!=99.99]\n",
    "y = scottsdale.PRCP[scottsdale['PRCP']!=99.99]\n",
    "\n",
    "\n",
    "z = np.polyfit(x, y, 3)\n",
    "p = np.poly1d(z)\n",
    "xp = np.linspace(1, 12)\n",
    "\n",
    "fig, (ax1, ax2) = plt.subplots(2,1, sharex=True)\n",
    "plt.title(\"Precipitation per month in Scottsdale, AZ since '85\")\n",
    "plt.ylabel('Precipitation (in Inches)')\n",
    "\n",
    "ax1.plot(x, y, '*')\n",
    "ax1.set_xticks(range(14))\n",
    "\n",
    "ax2.plot(x, y, '*', xp, p(xp), '-')\n",
    "ax2.set_ylim(0,0.05)\n",
    "plt.xticks(range(14), months)\n",
    "plt.xlabel('Month')\n",
    "plt.show()"
   ]
  },
  {
   "cell_type": "code",
   "execution_count": 26,
   "metadata": {
    "collapsed": false
   },
   "outputs": [
    {
     "data": {
      "image/png": "[encoded data removed]",
      "text/plain": [
       "<matplotlib.figure.Figure at 0x1efe43ea898>"
      ]
     },
     "metadata": {},
     "output_type": "display_data"
    }
   ],
   "source": [
    "scottsdale['Year'] = scottsdale.loc[:,'Date'].map(lambda x: x.year).astype(int)\n",
    "gr_by_year = scottsdale.groupby('Year')\n",
    "x = gr_by_year.Year.max()[gr_by_year.MAX.max() < 500]\n",
    "y = gr_by_year.MAX.max()[gr_by_year.MAX.max() < 500]\n",
    "plt.scatter(x,y)\n",
    "\n",
    "z = np.polyfit(x, y, 4)\n",
    "p = np.poly1d(z)\n",
    "\n",
    "xp = np.linspace(1987, 2020)\n",
    "plt.plot(x, y, '.', xp, p(xp), '-')\n",
    "\n",
    "plt.xticks(range(1985,2020,5))\n",
    "plt.xlim(1985,2020)\n",
    "plt.xlabel('Year')\n",
    "plt.ylabel('Max Temp.')\n",
    "plt.show()"
   ]
  },
  {
   "cell_type": "code",
   "execution_count": 27,
   "metadata": {
    "collapsed": false
   },
   "outputs": [],
   "source": [
    "scottsdale = scottsdale.drop(['WBAN', 'FRSHTT', 'Station', 'SNDP', 'SLP', 'STP', 'GUST'], axis=1)"
   ]
  },
  {
   "cell_type": "code",
   "execution_count": 28,
   "metadata": {
    "collapsed": false
   },
   "outputs": [
    {
     "data": {
      "text/html": [
       "<div>\n",
       "<table border=\"1\" class=\"dataframe\">\n",
       "  <thead>\n",
       "    <tr style=\"text-align: right;\">\n",
       "      <th></th>\n",
       "      <th>TEMP</th>\n",
       "      <th>DEWP</th>\n",
       "      <th>VISIB</th>\n",
       "      <th>WDSP</th>\n",
       "      <th>MXSPD</th>\n",
       "      <th>MAX</th>\n",
       "      <th>MIN</th>\n",
       "      <th>PRCP</th>\n",
       "      <th>Month</th>\n",
       "      <th>Year</th>\n",
       "    </tr>\n",
       "  </thead>\n",
       "  <tbody>\n",
       "    <tr>\n",
       "      <th>count</th>\n",
       "      <td>10582.000000</td>\n",
       "      <td>10582.000000</td>\n",
       "      <td>10582.000000</td>\n",
       "      <td>10582.000000</td>\n",
       "      <td>10582.000000</td>\n",
       "      <td>10582.000000</td>\n",
       "      <td>10582.000000</td>\n",
       "      <td>10582.000000</td>\n",
       "      <td>10582.000000</td>\n",
       "      <td>10582.000000</td>\n",
       "    </tr>\n",
       "    <tr>\n",
       "      <th>mean</th>\n",
       "      <td>74.660253</td>\n",
       "      <td>169.987649</td>\n",
       "      <td>23.783217</td>\n",
       "      <td>4.155557</td>\n",
       "      <td>12.773814</td>\n",
       "      <td>86.638169</td>\n",
       "      <td>69.160877</td>\n",
       "      <td>2.477252</td>\n",
       "      <td>6.504820</td>\n",
       "      <td>2001.728123</td>\n",
       "    </tr>\n",
       "    <tr>\n",
       "      <th>std</th>\n",
       "      <td>15.814564</td>\n",
       "      <td>1138.340954</td>\n",
       "      <td>17.819568</td>\n",
       "      <td>2.166663</td>\n",
       "      <td>52.801262</td>\n",
       "      <td>97.633944</td>\n",
       "      <td>273.597846</td>\n",
       "      <td>15.507721</td>\n",
       "      <td>3.440603</td>\n",
       "      <td>8.445452</td>\n",
       "    </tr>\n",
       "    <tr>\n",
       "      <th>min</th>\n",
       "      <td>35.300000</td>\n",
       "      <td>-6.500000</td>\n",
       "      <td>4.000000</td>\n",
       "      <td>0.000000</td>\n",
       "      <td>2.900000</td>\n",
       "      <td>42.100000</td>\n",
       "      <td>24.300000</td>\n",
       "      <td>0.000000</td>\n",
       "      <td>1.000000</td>\n",
       "      <td>1987.000000</td>\n",
       "    </tr>\n",
       "    <tr>\n",
       "      <th>25%</th>\n",
       "      <td>60.700000</td>\n",
       "      <td>28.600000</td>\n",
       "      <td>10.000000</td>\n",
       "      <td>2.500000</td>\n",
       "      <td>7.000000</td>\n",
       "      <td>72.900000</td>\n",
       "      <td>48.200000</td>\n",
       "      <td>0.000000</td>\n",
       "      <td>4.000000</td>\n",
       "      <td>1994.000000</td>\n",
       "    </tr>\n",
       "    <tr>\n",
       "      <th>50%</th>\n",
       "      <td>75.000000</td>\n",
       "      <td>36.500000</td>\n",
       "      <td>10.000000</td>\n",
       "      <td>3.900000</td>\n",
       "      <td>8.900000</td>\n",
       "      <td>87.000000</td>\n",
       "      <td>61.000000</td>\n",
       "      <td>0.000000</td>\n",
       "      <td>7.000000</td>\n",
       "      <td>2002.000000</td>\n",
       "    </tr>\n",
       "    <tr>\n",
       "      <th>75%</th>\n",
       "      <td>89.200000</td>\n",
       "      <td>48.200000</td>\n",
       "      <td>38.100000</td>\n",
       "      <td>5.500000</td>\n",
       "      <td>12.000000</td>\n",
       "      <td>100.000000</td>\n",
       "      <td>75.000000</td>\n",
       "      <td>0.000000</td>\n",
       "      <td>9.000000</td>\n",
       "      <td>2009.000000</td>\n",
       "    </tr>\n",
       "    <tr>\n",
       "      <th>max</th>\n",
       "      <td>108.800000</td>\n",
       "      <td>9999.900000</td>\n",
       "      <td>999.900000</td>\n",
       "      <td>14.800000</td>\n",
       "      <td>999.900000</td>\n",
       "      <td>9999.900000</td>\n",
       "      <td>9999.900000</td>\n",
       "      <td>99.990000</td>\n",
       "      <td>12.000000</td>\n",
       "      <td>2016.000000</td>\n",
       "    </tr>\n",
       "  </tbody>\n",
       "</table>\n",
       "</div>"
      ],
      "text/plain": [
       "               TEMP          DEWP         VISIB          WDSP         MXSPD  \\\n",
       "count  10582.000000  10582.000000  10582.000000  10582.000000  10582.000000   \n",
       "mean      74.660253    169.987649     23.783217      4.155557     12.773814   \n",
       "std       15.814564   1138.340954     17.819568      2.166663     52.801262   \n",
       "min       35.300000     -6.500000      4.000000      0.000000      2.900000   \n",
       "25%       60.700000     28.600000     10.000000      2.500000      7.000000   \n",
       "50%       75.000000     36.500000     10.000000      3.900000      8.900000   \n",
       "75%       89.200000     48.200000     38.100000      5.500000     12.000000   \n",
       "max      108.800000   9999.900000    999.900000     14.800000    999.900000   \n",
       "\n",
       "                MAX           MIN          PRCP         Month          Year  \n",
       "count  10582.000000  10582.000000  10582.000000  10582.000000  10582.000000  \n",
       "mean      86.638169     69.160877      2.477252      6.504820   2001.728123  \n",
       "std       97.633944    273.597846     15.507721      3.440603      8.445452  \n",
       "min       42.100000     24.300000      0.000000      1.000000   1987.000000  \n",
       "25%       72.900000     48.200000      0.000000      4.000000   1994.000000  \n",
       "50%       87.000000     61.000000      0.000000      7.000000   2002.000000  \n",
       "75%      100.000000     75.000000      0.000000      9.000000   2009.000000  \n",
       "max     9999.900000   9999.900000     99.990000     12.000000   2016.000000  "
      ]
     },
     "execution_count": 28,
     "metadata": {},
     "output_type": "execute_result"
    }
   ],
   "source": [
    "scottsdale.describe()"
   ]
  },
  {
   "cell_type": "code",
   "execution_count": 29,
   "metadata": {
    "collapsed": false
   },
   "outputs": [],
   "source": [
    "## changing missing vals (9999.99) to NAs\n",
    "scottsdale['DEWP'] = scottsdale.loc[:,'DEWP'].map(lambda x: None if x == 9999.900000 else x)\n",
    "scottsdale['VISIB'] = scottsdale.loc[:,'VISIB'].map(lambda x: None if x == 999.900000 else x)\n",
    "scottsdale['MXSPD'] = scottsdale.loc[:,'MXSPD'].map(lambda x: None if x == 999.900000 else x)\n",
    "scottsdale['MAX'] = scottsdale.loc[:,'MAX'].map(lambda x: None if x == 9999.900000 else x)\n",
    "scottsdale['MIN'] = scottsdale.loc[:,'MIN'].map(lambda x: None if x == 9999.900000 else x)\n",
    "scottsdale['PRCP'] = scottsdale.loc[:,'PRCP'].map(lambda x: None if x == 99.990000 else x)\n",
    "\n",
    "scottsdale['Day'] = scottsdale.loc[:, 'Date'].map(lambda x: x.day).astype(int)\n",
    "del(scottsdale['Date'])"
   ]
  },
  {
   "cell_type": "code",
   "execution_count": 30,
   "metadata": {
    "collapsed": false
   },
   "outputs": [],
   "source": [
    "# scottsdale.describe()\n",
    "from sklearn.preprocessing import Imputer\n",
    "imp = Imputer(missing_values='NaN', strategy='mean')\n",
    "imp_data = imp.fit_transform(scottsdale)\n",
    "scottsdale = pd.DataFrame(imp_data, columns=scottsdale.columns)"
   ]
  },
  {
   "cell_type": "code",
   "execution_count": 31,
   "metadata": {
    "collapsed": false
   },
   "outputs": [
    {
     "data": {
      "text/html": [
       "<div>\n",
       "<table border=\"1\" class=\"dataframe\">\n",
       "  <thead>\n",
       "    <tr style=\"text-align: right;\">\n",
       "      <th></th>\n",
       "      <th>TEMP</th>\n",
       "      <th>DEWP</th>\n",
       "      <th>VISIB</th>\n",
       "      <th>WDSP</th>\n",
       "      <th>MXSPD</th>\n",
       "      <th>MAX</th>\n",
       "      <th>MIN</th>\n",
       "      <th>PRCP</th>\n",
       "      <th>Month</th>\n",
       "      <th>Year</th>\n",
       "      <th>Day</th>\n",
       "    </tr>\n",
       "  </thead>\n",
       "  <tbody>\n",
       "    <tr>\n",
       "      <th>count</th>\n",
       "      <td>10582.000000</td>\n",
       "      <td>10582.000000</td>\n",
       "      <td>10582.000000</td>\n",
       "      <td>10582.000000</td>\n",
       "      <td>10582.000000</td>\n",
       "      <td>10582.000000</td>\n",
       "      <td>10582.000000</td>\n",
       "      <td>10582.000000</td>\n",
       "      <td>10582.000000</td>\n",
       "      <td>10582.000000</td>\n",
       "      <td>10582.000000</td>\n",
       "    </tr>\n",
       "    <tr>\n",
       "      <th>mean</th>\n",
       "      <td>74.660253</td>\n",
       "      <td>38.194149</td>\n",
       "      <td>23.690965</td>\n",
       "      <td>4.155557</td>\n",
       "      <td>9.967352</td>\n",
       "      <td>85.701276</td>\n",
       "      <td>61.647551</td>\n",
       "      <td>0.011325</td>\n",
       "      <td>6.504820</td>\n",
       "      <td>2001.728123</td>\n",
       "      <td>15.734077</td>\n",
       "    </tr>\n",
       "    <tr>\n",
       "      <th>std</th>\n",
       "      <td>15.814564</td>\n",
       "      <td>13.384055</td>\n",
       "      <td>15.082438</td>\n",
       "      <td>2.166663</td>\n",
       "      <td>4.168866</td>\n",
       "      <td>15.615582</td>\n",
       "      <td>15.357271</td>\n",
       "      <td>0.086115</td>\n",
       "      <td>3.440603</td>\n",
       "      <td>8.445452</td>\n",
       "      <td>8.789216</td>\n",
       "    </tr>\n",
       "    <tr>\n",
       "      <th>min</th>\n",
       "      <td>35.300000</td>\n",
       "      <td>-6.500000</td>\n",
       "      <td>4.000000</td>\n",
       "      <td>0.000000</td>\n",
       "      <td>2.900000</td>\n",
       "      <td>42.100000</td>\n",
       "      <td>24.300000</td>\n",
       "      <td>0.000000</td>\n",
       "      <td>1.000000</td>\n",
       "      <td>1987.000000</td>\n",
       "      <td>1.000000</td>\n",
       "    </tr>\n",
       "    <tr>\n",
       "      <th>25%</th>\n",
       "      <td>60.700000</td>\n",
       "      <td>28.600000</td>\n",
       "      <td>10.000000</td>\n",
       "      <td>2.500000</td>\n",
       "      <td>7.000000</td>\n",
       "      <td>72.900000</td>\n",
       "      <td>48.200000</td>\n",
       "      <td>0.000000</td>\n",
       "      <td>4.000000</td>\n",
       "      <td>1994.000000</td>\n",
       "      <td>8.000000</td>\n",
       "    </tr>\n",
       "    <tr>\n",
       "      <th>50%</th>\n",
       "      <td>75.000000</td>\n",
       "      <td>36.500000</td>\n",
       "      <td>10.000000</td>\n",
       "      <td>3.900000</td>\n",
       "      <td>8.900000</td>\n",
       "      <td>86.900000</td>\n",
       "      <td>61.000000</td>\n",
       "      <td>0.000000</td>\n",
       "      <td>7.000000</td>\n",
       "      <td>2002.000000</td>\n",
       "      <td>16.000000</td>\n",
       "    </tr>\n",
       "    <tr>\n",
       "      <th>75%</th>\n",
       "      <td>89.200000</td>\n",
       "      <td>47.300000</td>\n",
       "      <td>38.100000</td>\n",
       "      <td>5.500000</td>\n",
       "      <td>12.000000</td>\n",
       "      <td>100.000000</td>\n",
       "      <td>75.000000</td>\n",
       "      <td>0.000000</td>\n",
       "      <td>9.000000</td>\n",
       "      <td>2009.000000</td>\n",
       "      <td>23.000000</td>\n",
       "    </tr>\n",
       "    <tr>\n",
       "      <th>max</th>\n",
       "      <td>108.800000</td>\n",
       "      <td>73.400000</td>\n",
       "      <td>61.400000</td>\n",
       "      <td>14.800000</td>\n",
       "      <td>45.800000</td>\n",
       "      <td>120.900000</td>\n",
       "      <td>100.400000</td>\n",
       "      <td>2.090000</td>\n",
       "      <td>12.000000</td>\n",
       "      <td>2016.000000</td>\n",
       "      <td>31.000000</td>\n",
       "    </tr>\n",
       "  </tbody>\n",
       "</table>\n",
       "</div>"
      ],
      "text/plain": [
       "               TEMP          DEWP         VISIB          WDSP         MXSPD  \\\n",
       "count  10582.000000  10582.000000  10582.000000  10582.000000  10582.000000   \n",
       "mean      74.660253     38.194149     23.690965      4.155557      9.967352   \n",
       "std       15.814564     13.384055     15.082438      2.166663      4.168866   \n",
       "min       35.300000     -6.500000      4.000000      0.000000      2.900000   \n",
       "25%       60.700000     28.600000     10.000000      2.500000      7.000000   \n",
       "50%       75.000000     36.500000     10.000000      3.900000      8.900000   \n",
       "75%       89.200000     47.300000     38.100000      5.500000     12.000000   \n",
       "max      108.800000     73.400000     61.400000     14.800000     45.800000   \n",
       "\n",
       "                MAX           MIN          PRCP         Month          Year  \\\n",
       "count  10582.000000  10582.000000  10582.000000  10582.000000  10582.000000   \n",
       "mean      85.701276     61.647551      0.011325      6.504820   2001.728123   \n",
       "std       15.615582     15.357271      0.086115      3.440603      8.445452   \n",
       "min       42.100000     24.300000      0.000000      1.000000   1987.000000   \n",
       "25%       72.900000     48.200000      0.000000      4.000000   1994.000000   \n",
       "50%       86.900000     61.000000      0.000000      7.000000   2002.000000   \n",
       "75%      100.000000     75.000000      0.000000      9.000000   2009.000000   \n",
       "max      120.900000    100.400000      2.090000     12.000000   2016.000000   \n",
       "\n",
       "                Day  \n",
       "count  10582.000000  \n",
       "mean      15.734077  \n",
       "std        8.789216  \n",
       "min        1.000000  \n",
       "25%        8.000000  \n",
       "50%       16.000000  \n",
       "75%       23.000000  \n",
       "max       31.000000  "
      ]
     },
     "execution_count": 31,
     "metadata": {},
     "output_type": "execute_result"
    }
   ],
   "source": [
    "scottsdale.describe()\n",
    "# scottsdale = scottsdale.drop(['MAX', 'MIN'], axis=1)"
   ]
  },
  {
   "cell_type": "code",
   "execution_count": 32,
   "metadata": {
    "collapsed": true
   },
   "outputs": [],
   "source": [
    "y = scottsdale.loc[:, 'TEMP']\n",
    "X = scottsdale.ix[:,1:]\n",
    "from sklearn.cross_validation import train_test_split\n",
    "train_x, test_x, train_y, test_y = train_test_split(X, y, \n",
    "                                                    test_size=0.33,\n",
    "                                                    random_state=1)"
   ]
  },
  {
   "cell_type": "code",
   "execution_count": 33,
   "metadata": {
    "collapsed": false
   },
   "outputs": [
    {
     "data": {
      "text/plain": [
       "(7089, 10)"
      ]
     },
     "execution_count": 33,
     "metadata": {},
     "output_type": "execute_result"
    }
   ],
   "source": [
    "train_x.shape"
   ]
  },
  {
   "cell_type": "code",
   "execution_count": 34,
   "metadata": {
    "collapsed": false
   },
   "outputs": [
    {
     "data": {
      "text/plain": [
       "1676    96.0\n",
       "1975    78.0\n",
       "1853    55.7\n",
       "4116    67.5\n",
       "5948    52.2\n",
       "Name: TEMP, dtype: float64"
      ]
     },
     "execution_count": 34,
     "metadata": {},
     "output_type": "execute_result"
    }
   ],
   "source": [
    "train_y.head()"
   ]
  },
  {
   "cell_type": "code",
   "execution_count": null,
   "metadata": {
    "collapsed": true
   },
   "outputs": [],
   "source": []
  },
  {
   "cell_type": "code",
   "execution_count": null,
   "metadata": {
    "collapsed": true
   },
   "outputs": [],
   "source": []
  },
  {
   "cell_type": "code",
   "execution_count": null,
   "metadata": {
    "collapsed": true
   },
   "outputs": [],
   "source": []
  },
  {
   "cell_type": "code",
   "execution_count": 35,
   "metadata": {
    "collapsed": false
   },
   "outputs": [
    {
     "data": {
      "text/plain": [
       "LinearRegression(copy_X=True, fit_intercept=True, n_jobs=1, normalize=False)"
      ]
     },
     "execution_count": 35,
     "metadata": {},
     "output_type": "execute_result"
    }
   ],
   "source": [
    "from sklearn.linear_model import LinearRegression\n",
    "lr = LinearRegression()#LogisticRegressionCV()\n",
    "lr.fit(train_x, train_y)"
   ]
  },
  {
   "cell_type": "code",
   "execution_count": 36,
   "metadata": {
    "collapsed": false
   },
   "outputs": [
    {
     "name": "stdout",
     "output_type": "stream",
     "text": [
      "[ 87.73639404  62.4711311   99.73857854  51.94037118  80.6316368\n",
      "  62.33967432  44.52466295  93.28839079  53.76818903  90.18264807] 10035    88.6\n",
      "8716     61.1\n",
      "8557     98.3\n",
      "8765     52.4\n",
      "1217     81.6\n",
      "5477     60.4\n",
      "2583     45.4\n",
      "10402    90.7\n",
      "9421     54.7\n",
      "2018     91.9\n",
      "Name: TEMP, dtype: float64\n"
     ]
    }
   ],
   "source": [
    "pred = lr.predict(test_x)\n",
    "print(pred[:10], test_y[:10])"
   ]
  },
  {
   "cell_type": "code",
   "execution_count": 37,
   "metadata": {
    "collapsed": false
   },
   "outputs": [
    {
     "data": {
      "text/plain": [
       "0.99052529602349326"
      ]
     },
     "execution_count": 37,
     "metadata": {},
     "output_type": "execute_result"
    }
   ],
   "source": [
    "# for i,idx in enumerate(pred):\n",
    "lr.score(test_x, test_y)"
   ]
  },
  {
   "cell_type": "markdown",
   "metadata": {},
   "source": [
    "***\n",
    "## Results\n",
    "So ~42% is pretty decent score without any temperature information, but weather forcasters have the weather from previous days. Let's take a look!<br>\n",
    "We need to shift the data one day, so we are not predicting today's temperature with 'today's' data\n",
    "***"
   ]
  },
  {
   "cell_type": "code",
   "execution_count": 38,
   "metadata": {
    "collapsed": false
   },
   "outputs": [],
   "source": [
    "# scottsdale['PrevDayTemp'] = pd.DataFrame(scottsdale.loc[:,'TEMP']).shift()\n",
    "# scottsdale['PrevDayMax'] = pd.DataFrame(scottsdale.loc[:,'MAX']).shift()\n",
    "# scottsdale['PrevDayMin'] = pd.DataFrame(scottsdale.loc[:,'MIN']).shift()\n",
    "\n",
    "scottsdale = scottsdale.shift()"
   ]
  },
  {
   "cell_type": "code",
   "execution_count": 39,
   "metadata": {
    "collapsed": false
   },
   "outputs": [],
   "source": [
    "scottsdale = scottsdale.ix[1:,:]\n",
    "scottsdale = scottsdale.reset_index(drop=True)"
   ]
  },
  {
   "cell_type": "code",
   "execution_count": null,
   "metadata": {
    "collapsed": true
   },
   "outputs": [],
   "source": []
  },
  {
   "cell_type": "code",
   "execution_count": null,
   "metadata": {
    "collapsed": true
   },
   "outputs": [],
   "source": []
  },
  {
   "cell_type": "code",
   "execution_count": null,
   "metadata": {
    "collapsed": true
   },
   "outputs": [],
   "source": []
  },
  {
   "cell_type": "code",
   "execution_count": 40,
   "metadata": {
    "collapsed": false
   },
   "outputs": [],
   "source": [
    "train = scottsdale[scottsdale['Year']<2013]\n",
    "test = scottsdale[scottsdale['Year']>=2013]"
   ]
  },
  {
   "cell_type": "code",
   "execution_count": 41,
   "metadata": {
    "collapsed": false
   },
   "outputs": [],
   "source": [
    "train_x, train_y = train.ix[:,1:], train.ix[:,0]\n",
    "test_x, test_y = test.ix[:,1:], test.ix[:,0]"
   ]
  },
  {
   "cell_type": "code",
   "execution_count": 42,
   "metadata": {
    "collapsed": false
   },
   "outputs": [
    {
     "data": {
      "text/plain": [
       "LinearRegression(copy_X=True, fit_intercept=True, n_jobs=1, normalize=False)"
      ]
     },
     "execution_count": 42,
     "metadata": {},
     "output_type": "execute_result"
    }
   ],
   "source": [
    "lr.fit(train_x, train_y)"
   ]
  },
  {
   "cell_type": "code",
   "execution_count": 43,
   "metadata": {
    "collapsed": false
   },
   "outputs": [],
   "source": [
    "# x1 = lr.score(test_x, test_y)\n",
    "# pred1 = lr.predict(test_x)"
   ]
  },
  {
   "cell_type": "code",
   "execution_count": 44,
   "metadata": {
    "collapsed": false
   },
   "outputs": [
    {
     "name": "stdout",
     "output_type": "stream",
     "text": [
      "[ 42.1606807   46.77634882  48.32547765  47.6318796   46.61693083\n",
      "  51.31012573  49.60434136  51.0502622   56.05245211  55.78774478] 2555    43.0\n",
      "2556    48.5\n",
      "2557    50.9\n",
      "2558    48.3\n",
      "2559    46.2\n",
      "2560    49.9\n",
      "2561    49.8\n",
      "2562    50.5\n",
      "2563    53.7\n",
      "2564    52.4\n",
      "Name: TEMP, dtype: float64\n"
     ]
    },
    {
     "data": {
      "text/plain": [
       "0.98774248467097614"
      ]
     },
     "execution_count": 44,
     "metadata": {},
     "output_type": "execute_result"
    }
   ],
   "source": [
    "print(lr.predict(test_x)[:10], test_y[:10])\n",
    "lr.score(test_x, test_y)"
   ]
  },
  {
   "cell_type": "code",
   "execution_count": 45,
   "metadata": {
    "collapsed": false
   },
   "outputs": [],
   "source": [
    "pre = lr.predict(test_x)\n",
    "t_y = list(test_y)"
   ]
  },
  {
   "cell_type": "code",
   "execution_count": 47,
   "metadata": {
    "collapsed": false
   },
   "outputs": [
    {
     "name": "stdout",
     "output_type": "stream",
     "text": [
      "Predicted Temp: 42.1607 | Actual Temp: 43.0000\n",
      "Predicted Temp: 46.7763 | Actual Temp: 48.5000\n",
      "Predicted Temp: 48.3255 | Actual Temp: 50.9000\n",
      "Predicted Temp: 47.6319 | Actual Temp: 48.3000\n",
      "Predicted Temp: 46.6169 | Actual Temp: 46.2000\n",
      "Predicted Temp: 51.3101 | Actual Temp: 49.9000\n",
      "Predicted Temp: 49.6043 | Actual Temp: 49.8000\n",
      "Predicted Temp: 51.0503 | Actual Temp: 50.5000\n",
      "Predicted Temp: 56.0525 | Actual Temp: 53.7000\n",
      "Predicted Temp: 55.7877 | Actual Temp: 52.4000\n",
      "Predicted Temp: 45.7314 | Actual Temp: 46.9000\n",
      "Predicted Temp: 37.3622 | Actual Temp: 38.4000\n",
      "Predicted Temp: 36.3714 | Actual Temp: 37.5000\n",
      "Predicted Temp: 34.3150 | Actual Temp: 35.3000\n",
      "Predicted Temp: 36.3661 | Actual Temp: 36.9000\n",
      "Predicted Temp: 45.0529 | Actual Temp: 43.1000\n",
      "Predicted Temp: 54.2148 | Actual Temp: 51.0000\n",
      "Predicted Temp: 57.2141 | Actual Temp: 57.7000\n",
      "Predicted Temp: 57.7182 | Actual Temp: 55.8000\n",
      "Predicted Temp: 58.2173 | Actual Temp: 57.1000\n",
      "Predicted Temp: 61.2557 | Actual Temp: 57.7000\n",
      "Predicted Temp: 62.6444 | Actual Temp: 61.0000\n",
      "Predicted Temp: 64.0128 | Actual Temp: 61.3000\n",
      "Predicted Temp: 67.7042 | Actual Temp: 62.3000\n",
      "Predicted Temp: 62.3476 | Actual Temp: 61.3000\n"
     ]
    }
   ],
   "source": [
    "for i in range(25):\n",
    "    print('Predicted Temp: %.4f | Actual Temp: %.4f' % (pre[i], t_y[i]))"
   ]
  },
  {
   "cell_type": "code",
   "execution_count": null,
   "metadata": {
    "collapsed": true
   },
   "outputs": [],
   "source": []
  }
 ],
 "metadata": {
  "kernelspec": {
   "display_name": "Python 3",
   "language": "python",
   "name": "python3"
  },
  "language_info": {
   "codemirror_mode": {
    "name": "ipython",
    "version": 3
   },
   "file_extension": ".py",
   "mimetype": "text/x-python",
   "name": "python",
   "nbconvert_exporter": "python",
   "pygments_lexer": "ipython3",
   "version": "3.5.3"
  }
 },
 "nbformat": 4,
 "nbformat_minor": 0
}
